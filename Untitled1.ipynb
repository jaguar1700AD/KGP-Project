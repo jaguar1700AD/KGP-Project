{
 "cells": [
  {
   "cell_type": "code",
   "execution_count": 3,
   "metadata": {},
   "outputs": [],
   "source": [
    "import worker"
   ]
  },
  {
   "cell_type": "code",
   "execution_count": 4,
   "metadata": {},
   "outputs": [
    {
     "name": "stdout",
     "output_type": "stream",
     "text": [
      "[1, 4, 9, 16, 25]\n"
     ]
    }
   ],
   "source": [
    "import multiprocessing \n",
    "import os \n",
    "   \n",
    "if __name__ == \"__main__\": \n",
    "    # input list \n",
    "    mylist = [1,2,3,4,5] \n",
    "  \n",
    "    # creating a pool object \n",
    "    p = multiprocessing.Pool() \n",
    "  \n",
    "    # map list to target function \n",
    "    result = p.map(worker.square, mylist) \n",
    "  \n",
    "    print(result) "
   ]
  },
  {
   "cell_type": "code",
   "execution_count": 2,
   "metadata": {},
   "outputs": [
    {
     "data": {
      "text/plain": [
       "['D:\\\\ubuntu-kgc-summer19',\n",
       " 'C:\\\\Users\\\\shash\\\\Anaconda3\\\\python37.zip',\n",
       " 'C:\\\\Users\\\\shash\\\\Anaconda3\\\\DLLs',\n",
       " 'C:\\\\Users\\\\shash\\\\Anaconda3\\\\lib',\n",
       " 'C:\\\\Users\\\\shash\\\\Anaconda3',\n",
       " '',\n",
       " 'C:\\\\Users\\\\shash\\\\Anaconda3\\\\lib\\\\site-packages',\n",
       " 'C:\\\\Users\\\\shash\\\\Anaconda3\\\\lib\\\\site-packages\\\\win32',\n",
       " 'C:\\\\Users\\\\shash\\\\Anaconda3\\\\lib\\\\site-packages\\\\win32\\\\lib',\n",
       " 'C:\\\\Users\\\\shash\\\\Anaconda3\\\\lib\\\\site-packages\\\\Pythonwin',\n",
       " 'C:\\\\Users\\\\shash\\\\Anaconda3\\\\lib\\\\site-packages\\\\IPython\\\\extensions',\n",
       " 'C:\\\\Users\\\\shash\\\\.ipython']"
      ]
     },
     "execution_count": 2,
     "metadata": {},
     "output_type": "execute_result"
    }
   ],
   "source": [
    "import sys\n",
    "sys.path"
   ]
  },
  {
   "cell_type": "code",
   "execution_count": null,
   "metadata": {},
   "outputs": [],
   "source": []
  }
 ],
 "metadata": {
  "kernelspec": {
   "display_name": "Python 3",
   "language": "python",
   "name": "python3"
  },
  "language_info": {
   "codemirror_mode": {
    "name": "ipython",
    "version": 3
   },
   "file_extension": ".py",
   "mimetype": "text/x-python",
   "name": "python",
   "nbconvert_exporter": "python",
   "pygments_lexer": "ipython3",
   "version": "3.7.3"
  }
 },
 "nbformat": 4,
 "nbformat_minor": 2
}
