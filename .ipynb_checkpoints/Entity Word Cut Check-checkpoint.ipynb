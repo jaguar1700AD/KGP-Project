{
 "cells": [
  {
   "cell_type": "code",
   "execution_count": 1,
   "metadata": {},
   "outputs": [],
   "source": [
    "import ast\n",
    "import os\n",
    "import csv\n",
    "import sys\n",
    "import nltk\n",
    "import bs4 as bs\n",
    "import string\n",
    "\n",
    "maxInt = sys.maxsize\n",
    "\n",
    "while True:\n",
    "    # decrease the maxInt value by factor 10 \n",
    "    # as long as the OverflowError occurs.\n",
    "\n",
    "    try:\n",
    "        csv.field_size_limit(maxInt)\n",
    "        break\n",
    "    except OverflowError:\n",
    "        maxInt = int(maxInt/10)"
   ]
  },
  {
   "cell_type": "code",
   "execution_count": 2,
   "metadata": {},
   "outputs": [],
   "source": [
    "def get_set(set_string):\n",
    "    if set_string == 'set()':\n",
    "        return set()\n",
    "    else:\n",
    "        return ast.literal_eval(set_string)\n",
    "    \n",
    "def rem_end(text, suffix):\n",
    "    if text.endswith(suffix):\n",
    "        return text[:-len(suffix)]\n",
    "    return text\n",
    "\n",
    "def is_title(name):\n",
    "    if len(name) >= 3 and name[-3] == '(' and name[-2].isdigit() and name[-1] == ')':\n",
    "        return True\n",
    "    else:\n",
    "        return False\n",
    "\n",
    "def valid_entity(name):\n",
    "    if is_title(name) and (len(name) == 3 or name[-4] in string.punctuation):\n",
    "        return False\n",
    "    return True"
   ]
  },
  {
   "cell_type": "code",
   "execution_count": 3,
   "metadata": {},
   "outputs": [
    {
     "ename": "SyntaxError",
     "evalue": "invalid syntax (<ipython-input-3-9f6a183605ab>, line 33)",
     "output_type": "error",
     "traceback": [
      "\u001b[1;36m  File \u001b[1;32m\"<ipython-input-3-9f6a183605ab>\"\u001b[1;36m, line \u001b[1;32m33\u001b[0m\n\u001b[1;33m    if is_title(candidate)\u001b[0m\n\u001b[1;37m                          ^\u001b[0m\n\u001b[1;31mSyntaxError\u001b[0m\u001b[1;31m:\u001b[0m invalid syntax\n"
     ]
    }
   ],
   "source": [
    "bad_ent = []\n",
    "for section in range(1, 10):\n",
    "\n",
    "    directory = 'D:\\\\KGP\\\\Extractions\\\\man' + str(section) + '\\\\'\n",
    "    all_files = os.listdir(directory)\n",
    "\n",
    "    n = 1\n",
    "    for file_name in all_files:\n",
    "\n",
    "        sys.stdout.flush()\n",
    "        sys.stdout.write(\"Section : %d Progress: %d / %d / %d \\r\" % (section, n, len(all_files), len(bad_ent)))\n",
    "\n",
    "        ent_set = set()\n",
    "        with open(directory + file_name, 'r') as ent_file:\n",
    "            csv_reader = csv.DictReader(ent_file, delimiter = '\\t') \n",
    "            max_ent_len = 0\n",
    "            for entity in csv_reader:\n",
    "                name = entity['name']\n",
    "                if valid_entity(name):\n",
    "                    ent_set.add(name.replace(' ', ''))\n",
    "                    max_ent_len = max([max_ent_len, len(nltk.word_tokenize(name))])\n",
    "\n",
    "        txt_file_name = rem_end(file_name, 'txt') + 'html'\n",
    "        with open('D:\\\\KGP\\\\man' + str(section) + '\\\\' + txt_file_name, 'rb') as sauce:\n",
    "            soup = bs.BeautifulSoup(sauce, 'lxml')\n",
    "            sentences = nltk.sent_tokenize(soup.get_text())\n",
    "            for sentence in sentences:\n",
    "                words = nltk.word_tokenize(sentence)\n",
    "                for length in range(1, max_ent_len + 1):\n",
    "                    for start in range(len(words) - length + 1):\n",
    "                        candidate = ''.join(words[start: start + length])\n",
    "                        ent_set.discard(candidate)\n",
    "                        if is_title(candidate):\n",
    "                            ent_set.discard(candidate[:-3])\n",
    "                        else:\n",
    "                            ent_set.discard(candidate + '(' + str(section) + ')')\n",
    "\n",
    "        for entity in ent_set:\n",
    "            bad_ent.append(str(section) + ' ' + file_name + ' ' + entity)\n",
    "\n",
    "        n += 1"
   ]
  },
  {
   "cell_type": "code",
   "execution_count": null,
   "metadata": {},
   "outputs": [],
   "source": [
    "bad_ent"
   ]
  },
  {
   "cell_type": "code",
   "execution_count": null,
   "metadata": {},
   "outputs": [],
   "source": [
    "nltk.sent_tokenize('Ram is bad. Sita is good.')"
   ]
  },
  {
   "cell_type": "code",
   "execution_count": null,
   "metadata": {},
   "outputs": [],
   "source": [
    "nltk.word_tokenize('Ram is bad.')"
   ]
  },
  {
   "cell_type": "code",
   "execution_count": null,
   "metadata": {},
   "outputs": [],
   "source": []
  }
 ],
 "metadata": {
  "kernelspec": {
   "display_name": "Python 3",
   "language": "python",
   "name": "python3"
  },
  "language_info": {
   "codemirror_mode": {
    "name": "ipython",
    "version": 3
   },
   "file_extension": ".py",
   "mimetype": "text/x-python",
   "name": "python",
   "nbconvert_exporter": "python",
   "pygments_lexer": "ipython3",
   "version": "3.7.3"
  }
 },
 "nbformat": 4,
 "nbformat_minor": 2
}
