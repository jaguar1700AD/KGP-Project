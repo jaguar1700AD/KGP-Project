{
 "cells": [
  {
   "cell_type": "code",
   "execution_count": 1,
   "metadata": {},
   "outputs": [],
   "source": [
    "# G = nx.MultiDiGraph()\n",
    "\n",
    "# G.add_edge(1, 3, reln = '1a', label = 'Mery')\n",
    "# G.add_edge(2, 5, reln = '2')\n",
    "# G.add_edge(2, 5, reln = '3')\n",
    "# G.add_edge(5, 2, reln = '4')\n",
    "\n",
    "# for r in G[2][5]:\n",
    "#     print(G[2][5][r]['reln'])\n",
    "\n",
    "# for n,nbrsdict in G.adjacency_iter():\n",
    "#     for nbr,keydict in nbrsdict.items():\n",
    "#         for key,eattr in keydict.items():\n",
    "#             if 'weight' in eattr:\n",
    "#                 print(n,nbr,eattr['weight'])"
   ]
  },
  {
   "cell_type": "code",
   "execution_count": 2,
   "metadata": {},
   "outputs": [],
   "source": [
    "import ast\n",
    "import os\n",
    "import csv\n",
    "import sys\n",
    "import bs4 as bs\n",
    "import nltk\n",
    "import networkx as nx\n",
    "\n",
    "maxInt = sys.maxsize\n",
    "\n",
    "while True:\n",
    "    # decrease the maxInt value by factor 10 \n",
    "    # as long as the OverflowError occurs.\n",
    "\n",
    "    try:\n",
    "        csv.field_size_limit(maxInt)\n",
    "        break\n",
    "    except OverflowError:\n",
    "        maxInt = int(maxInt/10)"
   ]
  },
  {
   "cell_type": "code",
   "execution_count": 3,
   "metadata": {},
   "outputs": [],
   "source": [
    "global_dir = 'C:\\\\Users\\\\shash\\\\Desktop\\\\'\n",
    "directory = 'Extractions\\\\Graph\\\\'"
   ]
  },
  {
   "cell_type": "code",
   "execution_count": 4,
   "metadata": {},
   "outputs": [],
   "source": [
    "def get_set(set_string):\n",
    "    if set_string == 'set()':\n",
    "        return set()\n",
    "    else:\n",
    "        return ast.literal_eval(set_string)"
   ]
  },
  {
   "cell_type": "code",
   "execution_count": 5,
   "metadata": {},
   "outputs": [],
   "source": [
    "ent_name = {}\n",
    "with open(global_dir + 'Extractions\\\\ent_index.txt','r') as csv_file:\n",
    "        csv_reader = csv.DictReader(csv_file, delimiter = '\\t') \n",
    "        for entity in csv_reader:\n",
    "            ent_name[int(entity['index'])] = entity['name']"
   ]
  },
  {
   "cell_type": "code",
   "execution_count": 6,
   "metadata": {},
   "outputs": [],
   "source": [
    "G = nx.MultiDiGraph()"
   ]
  },
  {
   "cell_type": "code",
   "execution_count": 7,
   "metadata": {},
   "outputs": [],
   "source": [
    "# Read 1a\n",
    "# One way relation"
   ]
  },
  {
   "cell_type": "code",
   "execution_count": 19,
   "metadata": {},
   "outputs": [],
   "source": [
    "def graph_has_1a_edge(G, v1, v2):\n",
    "    try:\n",
    "        x = G[v1][v2]\n",
    "    except:\n",
    "        return False\n",
    "    \n",
    "    for r in x:\n",
    "        if x[r] == {'reln' : '1a'}:\n",
    "            return True\n",
    "    return False"
   ]
  },
  {
   "cell_type": "code",
   "execution_count": 8,
   "metadata": {},
   "outputs": [
    {
     "name": "stdout",
     "output_type": "stream",
     "text": [
      "Line / 10,000 : 1 / 2380 \r"
     ]
    }
   ],
   "source": [
    "with open(global_dir + directory + '1a.txt', 'r') as csv_file:\n",
    "    csv_reader = csv.DictReader(csv_file, delimiter = '\\t') \n",
    "    \n",
    "    n = 0\n",
    "    for line in csv_reader:\n",
    "        if n % 10000 == 0:\n",
    "            sys.stdout.flush()\n",
    "            sys.stdout.write(\"Line / 10,000 : %d / 2380 \\r\" % (n / 10000))\n",
    "        v1 = int(line['ent1'])\n",
    "        v2 = int(line['ent2'])\n",
    "        if not graph_has_1a_edge(G, v1, v2):\n",
    "            G.add_edge(v1, v2, reln = '1a')\n",
    "        n += 1\n",
    "        \n"
   ]
  },
  {
   "cell_type": "code",
   "execution_count": 9,
   "metadata": {},
   "outputs": [],
   "source": [
    "# Read 1b\n",
    "# One way relation"
   ]
  },
  {
   "cell_type": "code",
   "execution_count": 10,
   "metadata": {},
   "outputs": [
    {
     "name": "stdout",
     "output_type": "stream",
     "text": [
      "Line / 10,000 : 0 / 246 \r"
     ]
    }
   ],
   "source": [
    "with open(global_dir + directory + '1b.txt', 'r') as csv_file:\n",
    "    csv_reader = csv.DictReader(csv_file, delimiter = '\\t') \n",
    "    \n",
    "    n = 0\n",
    "    for line in csv_reader:\n",
    "        if n % 10000 == 0:\n",
    "            sys.stdout.flush()\n",
    "            sys.stdout.write(\"Line / 10,000 : %d / 246 \\r\" % (n / 10000))\n",
    "        G.add_edge(int(line['ent1']), int(line['ent2']), reln = '1b')\n",
    "        n += 1"
   ]
  },
  {
   "cell_type": "code",
   "execution_count": 11,
   "metadata": {},
   "outputs": [],
   "source": [
    "# Read 2\n",
    "# One way relation"
   ]
  },
  {
   "cell_type": "code",
   "execution_count": 12,
   "metadata": {},
   "outputs": [
    {
     "name": "stdout",
     "output_type": "stream",
     "text": [
      "Line / 10,000 : 0 / 20 \r"
     ]
    }
   ],
   "source": [
    "with open(global_dir + directory + '2.txt', 'r') as csv_file:\n",
    "    csv_reader = csv.DictReader(csv_file, delimiter = '\\t') \n",
    "    \n",
    "    n = 0\n",
    "    for line in csv_reader:\n",
    "        if n % 10000 == 0:\n",
    "            sys.stdout.flush()\n",
    "            sys.stdout.write(\"Line / 10,000 : %d / 20 \\r\" % (n / 10000))\n",
    "        G.add_edge(int(line['ent1']), int(line['ent2']), reln = '2')\n",
    "        n += 1"
   ]
  },
  {
   "cell_type": "code",
   "execution_count": 13,
   "metadata": {},
   "outputs": [],
   "source": [
    "# Read 3\n",
    "# Two way relation"
   ]
  },
  {
   "cell_type": "code",
   "execution_count": 14,
   "metadata": {},
   "outputs": [
    {
     "name": "stdout",
     "output_type": "stream",
     "text": [
      "Line / 10,000 : 5 / 88628 \r"
     ]
    }
   ],
   "source": [
    "with open(global_dir + directory + '3.txt', 'r') as csv_file:\n",
    "    csv_reader = csv.DictReader(csv_file, delimiter = '\\t') \n",
    "    \n",
    "    n = 0\n",
    "    for line in csv_reader:\n",
    "        if n % 10000 == 0:\n",
    "            sys.stdout.flush()\n",
    "            sys.stdout.write(\"Line / 10,000 : %d / 88628 \\r\" % (n / 10000))\n",
    "        v1 = line['ent1']\n",
    "        v2 = line['ent2']\n",
    "        if v1.isnumeric() and v2.isnumeric():\n",
    "            v1 = int(v1)\n",
    "            v2 = int(v2)\n",
    "            G.add_edge(v1, v2, reln = '3')\n",
    "            G.add_edge(v2, v1, reln = '3')\n",
    "            n += 1"
   ]
  },
  {
   "cell_type": "code",
   "execution_count": 15,
   "metadata": {},
   "outputs": [],
   "source": [
    "# Read 4\n",
    "# Two way relation\n",
    "# For 4, check if that reln and zipf label is already present. Add new only if not present"
   ]
  },
  {
   "cell_type": "code",
   "execution_count": 16,
   "metadata": {},
   "outputs": [],
   "source": [
    "def graph_has_edge(G, v1, v2, label):\n",
    "    try:\n",
    "        x = G[v1][v2]\n",
    "    except:\n",
    "        return False\n",
    "    \n",
    "    for r in x:\n",
    "        if x[r] == {'reln' : '4', 'label' : label}:\n",
    "            return True\n",
    "    return False"
   ]
  },
  {
   "cell_type": "code",
   "execution_count": 17,
   "metadata": {},
   "outputs": [
    {
     "name": "stdout",
     "output_type": "stream",
     "text": [
      "Line / 10,000 : 2 / 88628 \r"
     ]
    }
   ],
   "source": [
    "with open(global_dir + directory + '4.txt', 'r') as csv_file:\n",
    "    csv_reader = csv.DictReader(csv_file, delimiter = '\\t') \n",
    "    \n",
    "    n = 0\n",
    "    for line in csv_reader:\n",
    "        if n % 10000 == 0:\n",
    "            sys.stdout.flush()\n",
    "            sys.stdout.write(\"Line / 10,000 : %d / 88628 \\r\" % (n / 10000))\n",
    "        \n",
    "        v1 = line['ent1']\n",
    "        v2 = line['ent2']\n",
    "        if v1.isnumeric() and v2.isnumeric():\n",
    "            v1 = int(v1)\n",
    "            v2 = int(v2)\n",
    "            edge_label = get_set(line['relation'])\n",
    "            if not graph_has_edge(G, v1, v2, edge_label):\n",
    "                G.add_edge(v1, v2, reln = '4', label = edge_label)\n",
    "            if not graph_has_edge(G, v2, v1, edge_label):\n",
    "                G.add_edge(v2, v1, reln = '4', label = edge_label)\n",
    "            n += 1"
   ]
  },
  {
   "cell_type": "code",
   "execution_count": 18,
   "metadata": {},
   "outputs": [
    {
     "name": "stdout",
     "output_type": "stream",
     "text": [
      "Error in graph edge:  1158 0 {0: {'reln': '1a'}, 1: {'reln': '1a'}}\n",
      "Error in graph edge:  1158 1097 {0: {'reln': '1a'}, 1: {'reln': '1a'}}\n",
      "Error in graph edge:  1158 1098 {0: {'reln': '1a'}, 1: {'reln': '1a'}}\n",
      "Error in graph edge:  1158 3 {0: {'reln': '1a'}, 1: {'reln': '1a'}}\n",
      "Error in graph edge:  1158 5 {0: {'reln': '1a'}, 1: {'reln': '1a'}, 2: {'reln': '4', 'label': {'AtFS'}}}\n",
      "Error in graph edge:  1158 6 {0: {'reln': '1a'}, 1: {'reln': '1a'}}\n",
      "Error in graph edge:  1158 1127 {0: {'reln': '1a'}, 1: {'reln': '1a'}, 2: {'reln': '1b'}, 3: {'reln': '4', 'label': set()}}\n",
      "Error in graph edge:  1158 1147 {0: {'reln': '1a'}, 1: {'reln': '1a'}}\n",
      "Error in graph edge:  1158 1148 {0: {'reln': '1a'}, 1: {'reln': '1a'}}\n",
      "Error in graph edge:  1158 8 {0: {'reln': '1a'}, 1: {'reln': '1a'}}\n",
      "Error in graph edge:  1158 1149 {0: {'reln': '1a'}, 1: {'reln': '1a'}}\n",
      "Error in graph edge:  1158 1150 {0: {'reln': '1a'}, 1: {'reln': '1a'}}\n",
      "Error in graph edge:  1158 1151 {0: {'reln': '1a'}, 1: {'reln': '1a'}}\n",
      "Error in graph edge:  1158 12 {0: {'reln': '1a'}, 1: {'reln': '1a'}}\n",
      "Error in graph edge:  1158 13 {0: {'reln': '1a'}, 1: {'reln': '1a'}}\n",
      "Error in graph edge:  1158 1133 {0: {'reln': '1a'}, 1: {'reln': '1a'}, 2: {'reln': '1b'}, 3: {'reln': '4', 'label': {'Af_key'}}}\n",
      "Error in graph edge:  1158 1152 {0: {'reln': '1a'}, 1: {'reln': '1a'}}\n",
      "Error in graph edge:  1158 14 {0: {'reln': '1a'}, 1: {'reln': '1a'}}\n",
      "Error in graph edge:  1158 1153 {0: {'reln': '1a'}, 1: {'reln': '1a'}}\n",
      "Error in graph edge:  1158 1154 {0: {'reln': '1a'}, 1: {'reln': '1a'}}\n",
      "Error in graph edge:  1158 1107 {0: {'reln': '1a'}, 1: {'reln': '1a'}}\n",
      "Error in graph edge:  1158 1156 {0: {'reln': '1a'}, 1: {'reln': '1a'}, 2: {'reln': '1b'}, 3: {'reln': '4', 'label': set()}, 4: {'reln': '4', 'label': {'Af_key', '*aso'}}}\n",
      "Error in graph edge:  1158 1159 {0: {'reln': '1a'}, 1: {'reln': '1a'}}\n",
      "Error in graph edge:  1158 20 {0: {'reln': '1a'}, 1: {'reln': '1a'}}\n",
      "Error in graph edge:  1158 1160 {0: {'reln': '1a'}, 1: {'reln': '1a'}}\n",
      "Error in graph edge:  1158 1115 {0: {'reln': '1a'}, 1: {'reln': '1a'}}\n",
      "Error in graph edge:  1158 27 {0: {'reln': '1a'}, 1: {'reln': '1a'}}\n",
      "Error in graph edge:  1158 28 {0: {'reln': '1a'}, 1: {'reln': '1a'}, 2: {'reln': '4', 'label': {'AtFS'}}}\n",
      "Error in graph edge:  1158 29 {0: {'reln': '1a'}, 1: {'reln': '1a'}}\n",
      "Error in graph edge:  1158 486 {0: {'reln': '1a'}, 1: {'reln': '1a'}}\n",
      "Error in graph edge:  1158 1163 {0: {'reln': '1a'}, 1: {'reln': '1a'}}\n",
      "Error in graph edge:  1158 425 {0: {'reln': '1a'}, 1: {'reln': '1a'}}\n",
      "Error in graph edge:  1158 31 {0: {'reln': '1a'}, 1: {'reln': '1a'}}\n",
      "Error in graph edge:  1146 0 {0: {'reln': '1a'}, 1: {'reln': '1a'}}\n",
      "Error in graph edge:  1146 1097 {0: {'reln': '1a'}, 1: {'reln': '1a'}}\n",
      "Error in graph edge:  1146 1098 {0: {'reln': '1a'}, 1: {'reln': '1a'}}\n",
      "Error in graph edge:  1146 3 {0: {'reln': '1a'}, 1: {'reln': '1a'}}\n",
      "Error in graph edge:  1146 5 {0: {'reln': '1a'}, 1: {'reln': '1a'}}\n",
      "Error in graph edge:  1146 6 {0: {'reln': '1a'}, 1: {'reln': '1a'}}\n",
      "Error in graph edge:  1146 1127 {0: {'reln': '1a'}, 1: {'reln': '1a'}}\n",
      "Error in graph edge:  1146 1147 {0: {'reln': '1a'}, 1: {'reln': '1a'}}\n",
      "Error in graph edge:  1146 1148 {0: {'reln': '1a'}, 1: {'reln': '1a'}}\n",
      "Error in graph edge:  1146 8 {0: {'reln': '1a'}, 1: {'reln': '1a'}, 2: {'reln': '1b'}}\n",
      "Error in graph edge:  1146 1149 {0: {'reln': '1a'}, 1: {'reln': '1a'}}\n",
      "Error in graph edge:  1146 1150 {0: {'reln': '1a'}, 1: {'reln': '1a'}}\n",
      "Error in graph edge:  1146 1151 {0: {'reln': '1a'}, 1: {'reln': '1a'}}\n",
      "Error in graph edge:  1146 12 {0: {'reln': '1a'}, 1: {'reln': '1a'}}\n",
      "Error in graph edge:  1146 13 {0: {'reln': '1a'}, 1: {'reln': '1a'}, 2: {'reln': '1b'}}\n",
      "Error in graph edge:  1146 1133 {0: {'reln': '1a'}, 1: {'reln': '1a'}}\n",
      "Error in graph edge:  1146 1152 {0: {'reln': '1a'}, 1: {'reln': '1a'}}\n",
      "Error in graph edge:  1146 14 {0: {'reln': '1a'}, 1: {'reln': '1a'}}\n",
      "Error in graph edge:  1146 1153 {0: {'reln': '1a'}, 1: {'reln': '1a'}}\n",
      "Error in graph edge:  1146 1154 {0: {'reln': '1a'}, 1: {'reln': '1a'}}\n",
      "Error in graph edge:  1146 1107 {0: {'reln': '1a'}, 1: {'reln': '1a'}}\n",
      "Error in graph edge:  1146 1156 {0: {'reln': '1a'}, 1: {'reln': '1a'}}\n",
      "Error in graph edge:  1146 1159 {0: {'reln': '1a'}, 1: {'reln': '1a'}}\n",
      "Error in graph edge:  1146 20 {0: {'reln': '1a'}, 1: {'reln': '1a'}}\n",
      "Error in graph edge:  1146 1160 {0: {'reln': '1a'}, 1: {'reln': '1a'}}\n",
      "Error in graph edge:  1146 1115 {0: {'reln': '1a'}, 1: {'reln': '1a'}, 2: {'reln': '1b'}}\n",
      "Error in graph edge:  1146 27 {0: {'reln': '1a'}, 1: {'reln': '1a'}}\n",
      "Error in graph edge:  1146 28 {0: {'reln': '1a'}, 1: {'reln': '1a'}}\n",
      "Error in graph edge:  1146 29 {0: {'reln': '1a'}, 1: {'reln': '1a'}}\n",
      "Error in graph edge:  1146 486 {0: {'reln': '1a'}, 1: {'reln': '1a'}}\n",
      "Error in graph edge:  1146 1163 {0: {'reln': '1a'}, 1: {'reln': '1a'}}\n",
      "Error in graph edge:  1146 425 {0: {'reln': '1a'}, 1: {'reln': '1a'}}\n",
      "Error in graph edge:  1146 31 {0: {'reln': '1a'}, 1: {'reln': '1a'}, 2: {'reln': '1b'}}\n",
      "Error in graph edge:  1157 0 {0: {'reln': '1a'}, 1: {'reln': '1a'}}\n",
      "Error in graph edge:  1157 1097 {0: {'reln': '1a'}, 1: {'reln': '1a'}}\n",
      "Error in graph edge:  1157 1098 {0: {'reln': '1a'}, 1: {'reln': '1a'}}\n",
      "Error in graph edge:  1157 3 {0: {'reln': '1a'}, 1: {'reln': '1a'}}\n",
      "Error in graph edge:  1157 5 {0: {'reln': '1a'}, 1: {'reln': '1a'}}\n",
      "Error in graph edge:  1157 6 {0: {'reln': '1a'}, 1: {'reln': '1a'}}\n",
      "Error in graph edge:  1157 1127 {0: {'reln': '1a'}, 1: {'reln': '1a'}}\n",
      "Error in graph edge:  1157 1147 {0: {'reln': '1a'}, 1: {'reln': '1a'}, 2: {'reln': '1b'}, 3: {'reln': '4', 'label': set()}}\n",
      "Error in graph edge:  1157 1148 {0: {'reln': '1a'}, 1: {'reln': '1a'}}\n",
      "Error in graph edge:  1157 8 {0: {'reln': '1a'}, 1: {'reln': '1a'}}\n",
      "Error in graph edge:  1157 1149 {0: {'reln': '1a'}, 1: {'reln': '1a'}}\n",
      "Error in graph edge:  1157 1150 {0: {'reln': '1a'}, 1: {'reln': '1a'}}\n",
      "Error in graph edge:  1157 1151 {0: {'reln': '1a'}, 1: {'reln': '1a'}}\n",
      "Error in graph edge:  1157 12 {0: {'reln': '1a'}, 1: {'reln': '1a'}}\n",
      "Error in graph edge:  1157 13 {0: {'reln': '1a'}, 1: {'reln': '1a'}}\n",
      "Error in graph edge:  1157 1133 {0: {'reln': '1a'}, 1: {'reln': '1a'}}\n",
      "Error in graph edge:  1157 1152 {0: {'reln': '1a'}, 1: {'reln': '1a'}}\n",
      "Error in graph edge:  1157 14 {0: {'reln': '1a'}, 1: {'reln': '1a'}}\n",
      "Error in graph edge:  1157 1153 {0: {'reln': '1a'}, 1: {'reln': '1a'}}\n",
      "Error in graph edge:  1157 1154 {0: {'reln': '1a'}, 1: {'reln': '1a'}}\n",
      "Error in graph edge:  1157 1107 {0: {'reln': '1a'}, 1: {'reln': '1a'}}\n",
      "Error in graph edge:  1157 1156 {0: {'reln': '1a'}, 1: {'reln': '1a'}}\n",
      "Error in graph edge:  1157 1159 {0: {'reln': '1a'}, 1: {'reln': '1a'}}\n",
      "Error in graph edge:  1157 20 {0: {'reln': '1a'}, 1: {'reln': '1a'}}\n",
      "Error in graph edge:  1157 1160 {0: {'reln': '1a'}, 1: {'reln': '1a'}}\n",
      "Error in graph edge:  1157 1115 {0: {'reln': '1a'}, 1: {'reln': '1a'}}\n",
      "Error in graph edge:  1157 27 {0: {'reln': '1a'}, 1: {'reln': '1a'}}\n",
      "Error in graph edge:  1157 28 {0: {'reln': '1a'}, 1: {'reln': '1a'}}\n",
      "Error in graph edge:  1157 29 {0: {'reln': '1a'}, 1: {'reln': '1a'}}\n",
      "Error in graph edge:  1157 486 {0: {'reln': '1a'}, 1: {'reln': '1a'}}\n",
      "Error in graph edge:  1157 1163 {0: {'reln': '1a'}, 1: {'reln': '1a'}}\n",
      "Error in graph edge:  1157 425 {0: {'reln': '1a'}, 1: {'reln': '1a'}}\n",
      "Error in graph edge:  1157 31 {0: {'reln': '1a'}, 1: {'reln': '1a'}}\n",
      "Error in graph edge:  1155 0 {0: {'reln': '1a'}, 1: {'reln': '1a'}}\n",
      "Error in graph edge:  1155 1097 {0: {'reln': '1a'}, 1: {'reln': '1a'}}\n",
      "Error in graph edge:  1155 1098 {0: {'reln': '1a'}, 1: {'reln': '1a'}}\n",
      "Error in graph edge:  1155 3 {0: {'reln': '1a'}, 1: {'reln': '1a'}}\n",
      "Error in graph edge:  1155 5 {0: {'reln': '1a'}, 1: {'reln': '1a'}}\n",
      "Error in graph edge:  1155 6 {0: {'reln': '1a'}, 1: {'reln': '1a'}}\n",
      "Error in graph edge:  1155 1127 {0: {'reln': '1a'}, 1: {'reln': '1a'}, 2: {'reln': '4', 'label': set()}}\n",
      "Error in graph edge:  1155 1147 {0: {'reln': '1a'}, 1: {'reln': '1a'}}\n",
      "Error in graph edge:  1155 1148 {0: {'reln': '1a'}, 1: {'reln': '1a'}}\n",
      "Error in graph edge:  1155 8 {0: {'reln': '1a'}, 1: {'reln': '1a'}}\n",
      "Error in graph edge:  1155 1149 {0: {'reln': '1a'}, 1: {'reln': '1a'}}\n",
      "Error in graph edge:  1155 1150 {0: {'reln': '1a'}, 1: {'reln': '1a'}}\n",
      "Error in graph edge:  1155 1151 {0: {'reln': '1a'}, 1: {'reln': '1a'}}\n",
      "Error in graph edge:  1155 12 {0: {'reln': '1a'}, 1: {'reln': '1a'}}\n",
      "Error in graph edge:  1155 13 {0: {'reln': '1a'}, 1: {'reln': '1a'}}\n",
      "Error in graph edge:  1155 1133 {0: {'reln': '1a'}, 1: {'reln': '1a'}, 2: {'reln': '1b'}, 3: {'reln': '4', 'label': {'Af_key'}}}\n",
      "Error in graph edge:  1155 1152 {0: {'reln': '1a'}, 1: {'reln': '1a'}}\n",
      "Error in graph edge:  1155 14 {0: {'reln': '1a'}, 1: {'reln': '1a'}}\n",
      "Error in graph edge:  1155 1153 {0: {'reln': '1a'}, 1: {'reln': '1a'}}\n",
      "Error in graph edge:  1155 1154 {0: {'reln': '1a'}, 1: {'reln': '1a'}}\n",
      "Error in graph edge:  1155 1107 {0: {'reln': '1a'}, 1: {'reln': '1a'}, 2: {'reln': '4', 'label': {'removes'}}}\n",
      "Error in graph edge:  1155 1156 {0: {'reln': '1a'}, 1: {'reln': '1a'}, 2: {'reln': '1b'}, 3: {'reln': '4', 'label': set()}}\n",
      "Error in graph edge:  1155 1159 {0: {'reln': '1a'}, 1: {'reln': '1a'}}\n",
      "Error in graph edge:  1155 20 {0: {'reln': '1a'}, 1: {'reln': '1a'}}\n",
      "Error in graph edge:  1155 1160 {0: {'reln': '1a'}, 1: {'reln': '1a'}}\n",
      "Error in graph edge:  1155 1115 {0: {'reln': '1a'}, 1: {'reln': '1a'}}\n",
      "Error in graph edge:  1155 27 {0: {'reln': '1a'}, 1: {'reln': '1a'}}\n",
      "Error in graph edge:  1155 28 {0: {'reln': '1a'}, 1: {'reln': '1a'}}\n",
      "Error in graph edge:  1155 29 {0: {'reln': '1a'}, 1: {'reln': '1a'}}\n",
      "Error in graph edge:  1155 486 {0: {'reln': '1a'}, 1: {'reln': '1a'}}\n",
      "Error in graph edge:  1155 1163 {0: {'reln': '1a'}, 1: {'reln': '1a'}, 2: {'reln': '1b'}}\n",
      "Error in graph edge:  1155 425 {0: {'reln': '1a'}, 1: {'reln': '1a'}}\n",
      "Error in graph edge:  1155 31 {0: {'reln': '1a'}, 1: {'reln': '1a'}}\n",
      "Error in graph edge:  1162 0 {0: {'reln': '1a'}, 1: {'reln': '1a'}}\n",
      "Error in graph edge:  1162 1097 {0: {'reln': '1a'}, 1: {'reln': '1a'}}\n",
      "Error in graph edge:  1162 1098 {0: {'reln': '1a'}, 1: {'reln': '1a'}}\n",
      "Error in graph edge:  1162 3 {0: {'reln': '1a'}, 1: {'reln': '1a'}}\n",
      "Error in graph edge:  1162 5 {0: {'reln': '1a'}, 1: {'reln': '1a'}}\n",
      "Error in graph edge:  1162 6 {0: {'reln': '1a'}, 1: {'reln': '1a'}}\n",
      "Error in graph edge:  1162 1127 {0: {'reln': '1a'}, 1: {'reln': '1a'}, 2: {'reln': '4', 'label': set()}}\n",
      "Error in graph edge:  1162 1147 {0: {'reln': '1a'}, 1: {'reln': '1a'}}\n",
      "Error in graph edge:  1162 1148 {0: {'reln': '1a'}, 1: {'reln': '1a'}}\n",
      "Error in graph edge:  1162 8 {0: {'reln': '1a'}, 1: {'reln': '1a'}}\n",
      "Error in graph edge:  1162 1149 {0: {'reln': '1a'}, 1: {'reln': '1a'}}\n",
      "Error in graph edge:  1162 1150 {0: {'reln': '1a'}, 1: {'reln': '1a'}}\n",
      "Error in graph edge:  1162 1151 {0: {'reln': '1a'}, 1: {'reln': '1a'}}\n",
      "Error in graph edge:  1162 12 {0: {'reln': '1a'}, 1: {'reln': '1a'}}\n",
      "Error in graph edge:  1162 13 {0: {'reln': '1a'}, 1: {'reln': '1a'}}\n",
      "Error in graph edge:  1162 1133 {0: {'reln': '1a'}, 1: {'reln': '1a'}, 2: {'reln': '1b'}, 3: {'reln': '4', 'label': {'Af_key'}}}\n",
      "Error in graph edge:  1162 1152 {0: {'reln': '1a'}, 1: {'reln': '1a'}}\n",
      "Error in graph edge:  1162 14 {0: {'reln': '1a'}, 1: {'reln': '1a'}}\n",
      "Error in graph edge:  1162 1153 {0: {'reln': '1a'}, 1: {'reln': '1a'}}\n",
      "Error in graph edge:  1162 1154 {0: {'reln': '1a'}, 1: {'reln': '1a'}}\n",
      "Error in graph edge:  1162 1107 {0: {'reln': '1a'}, 1: {'reln': '1a'}}\n",
      "Error in graph edge:  1162 1156 {0: {'reln': '1a'}, 1: {'reln': '1a'}, 2: {'reln': '1b'}, 3: {'reln': '4', 'label': set()}}\n",
      "Error in graph edge:  1162 1159 {0: {'reln': '1a'}, 1: {'reln': '1a'}}\n",
      "Error in graph edge:  1162 20 {0: {'reln': '1a'}, 1: {'reln': '1a'}}\n",
      "Error in graph edge:  1162 1160 {0: {'reln': '1a'}, 1: {'reln': '1a'}}\n",
      "Error in graph edge:  1162 1115 {0: {'reln': '1a'}, 1: {'reln': '1a'}}\n",
      "Error in graph edge:  1162 27 {0: {'reln': '1a'}, 1: {'reln': '1a'}}\n",
      "Error in graph edge:  1162 28 {0: {'reln': '1a'}, 1: {'reln': '1a'}}\n",
      "Error in graph edge:  1162 29 {0: {'reln': '1a'}, 1: {'reln': '1a'}}\n",
      "Error in graph edge:  1162 486 {0: {'reln': '1a'}, 1: {'reln': '1a'}}\n",
      "Error in graph edge:  1162 1163 {0: {'reln': '1a'}, 1: {'reln': '1a'}}\n",
      "Error in graph edge:  1162 425 {0: {'reln': '1a'}, 1: {'reln': '1a'}}\n",
      "Error in graph edge:  1162 31 {0: {'reln': '1a'}, 1: {'reln': '1a'}}\n",
      "Error in graph edge:  1161 0 {0: {'reln': '1a'}, 1: {'reln': '1a'}}\n",
      "Error in graph edge:  1161 1097 {0: {'reln': '1a'}, 1: {'reln': '1a'}}\n",
      "Error in graph edge:  1161 1098 {0: {'reln': '1a'}, 1: {'reln': '1a'}}\n",
      "Error in graph edge:  1161 3 {0: {'reln': '1a'}, 1: {'reln': '1a'}}\n",
      "Error in graph edge:  1161 5 {0: {'reln': '1a'}, 1: {'reln': '1a'}}\n",
      "Error in graph edge:  1161 6 {0: {'reln': '1a'}, 1: {'reln': '1a'}}\n",
      "Error in graph edge:  1161 1127 {0: {'reln': '1a'}, 1: {'reln': '1a'}}\n",
      "Error in graph edge:  1161 1147 {0: {'reln': '1a'}, 1: {'reln': '1a'}}\n",
      "Error in graph edge:  1161 1148 {0: {'reln': '1a'}, 1: {'reln': '1a'}}\n",
      "Error in graph edge:  1161 8 {0: {'reln': '1a'}, 1: {'reln': '1a'}}\n",
      "Error in graph edge:  1161 1149 {0: {'reln': '1a'}, 1: {'reln': '1a'}}\n",
      "Error in graph edge:  1161 1150 {0: {'reln': '1a'}, 1: {'reln': '1a'}}\n",
      "Error in graph edge:  1161 1151 {0: {'reln': '1a'}, 1: {'reln': '1a'}}\n",
      "Error in graph edge:  1161 12 {0: {'reln': '1a'}, 1: {'reln': '1a'}}\n",
      "Error in graph edge:  1161 13 {0: {'reln': '1a'}, 1: {'reln': '1a'}}\n",
      "Error in graph edge:  1161 1133 {0: {'reln': '1a'}, 1: {'reln': '1a'}}\n",
      "Error in graph edge:  1161 1152 {0: {'reln': '1a'}, 1: {'reln': '1a'}, 2: {'reln': '1b'}, 3: {'reln': '4', 'label': set()}}\n",
      "Error in graph edge:  1161 14 {0: {'reln': '1a'}, 1: {'reln': '1a'}}\n",
      "Error in graph edge:  1161 1153 {0: {'reln': '1a'}, 1: {'reln': '1a'}}\n",
      "Error in graph edge:  1161 1154 {0: {'reln': '1a'}, 1: {'reln': '1a'}}\n",
      "Error in graph edge:  1161 1107 {0: {'reln': '1a'}, 1: {'reln': '1a'}, 2: {'reln': '4', 'label': {'opens'}}}\n",
      "Error in graph edge:  1161 1156 {0: {'reln': '1a'}, 1: {'reln': '1a'}}\n",
      "Error in graph edge:  1161 1159 {0: {'reln': '1a'}, 1: {'reln': '1a'}}\n",
      "Error in graph edge:  1161 20 {0: {'reln': '1a'}, 1: {'reln': '1a'}}\n",
      "Error in graph edge:  1161 1160 {0: {'reln': '1a'}, 1: {'reln': '1a'}}\n",
      "Error in graph edge:  1161 1115 {0: {'reln': '1a'}, 1: {'reln': '1a'}}\n",
      "Error in graph edge:  1161 27 {0: {'reln': '1a'}, 1: {'reln': '1a'}}\n",
      "Error in graph edge:  1161 28 {0: {'reln': '1a'}, 1: {'reln': '1a'}}\n",
      "Error in graph edge:  1161 29 {0: {'reln': '1a'}, 1: {'reln': '1a'}}\n",
      "Error in graph edge:  1161 486 {0: {'reln': '1a'}, 1: {'reln': '1a'}}\n",
      "Error in graph edge:  1161 1163 {0: {'reln': '1a'}, 1: {'reln': '1a'}}\n",
      "Error in graph edge:  1161 425 {0: {'reln': '1a'}, 1: {'reln': '1a'}, 2: {'reln': '1b'}, 3: {'reln': '4', 'label': set()}}\n",
      "Error in graph edge:  1161 31 {0: {'reln': '1a'}, 1: {'reln': '1a'}, 2: {'reln': '1b'}}\n"
     ]
    }
   ],
   "source": [
    "# Sanity check: \n",
    "# for every edge G[x][y]:\n",
    "#     Initialize count for '1a', '1b', '2', '3' to 0\n",
    "#     Initialize list for reln '4' to a empty list\n",
    "#     for r in G[x][y]:\n",
    "#         Update count for reln based on value of G[x][y][r]['reln']\n",
    "#         For reln of type 4, keep list of labels instead of count\n",
    "#     Now, count for relns 1a, 1b, 2, 3 should be one or zero\n",
    "#     List for reln 4 should have no duplicates\n",
    "\n",
    "def duplicates(set_list):\n",
    "    for i in range(len(set_list)):\n",
    "        for j in range(i + 1, len(set_list)):\n",
    "            if set_list[i] == set_list[j]:\n",
    "                return True\n",
    "    return False\n",
    "\n",
    "for x in G:\n",
    "    for y in G[x]:\n",
    "        count = {'1a' : 0, '1b' : 0, '2' : 0, '3' : 0}\n",
    "        label_list = []\n",
    "        for r in G[x][y]:\n",
    "            reln = G[x][y][r]['reln'] \n",
    "            if reln != '4':\n",
    "                count[reln] += 1\n",
    "            else:\n",
    "                label_list.append(G[x][y][r]['label'])\n",
    "        if  duplicates(label_list) or count['1a'] > 1 or count['1b'] > 1 or count['2'] > 1 or count['3'] > 1:\n",
    "            print('Error in graph edge: ', x, y, G[x][y])"
   ]
  },
  {
   "cell_type": "code",
   "execution_count": null,
   "metadata": {},
   "outputs": [],
   "source": []
  },
  {
   "cell_type": "code",
   "execution_count": null,
   "metadata": {},
   "outputs": [],
   "source": []
  }
 ],
 "metadata": {
  "kernelspec": {
   "display_name": "Python 3",
   "language": "python",
   "name": "python3"
  },
  "language_info": {
   "codemirror_mode": {
    "name": "ipython",
    "version": 3
   },
   "file_extension": ".py",
   "mimetype": "text/x-python",
   "name": "python",
   "nbconvert_exporter": "python",
   "pygments_lexer": "ipython3",
   "version": "3.7.3"
  }
 },
 "nbformat": 4,
 "nbformat_minor": 2
}
