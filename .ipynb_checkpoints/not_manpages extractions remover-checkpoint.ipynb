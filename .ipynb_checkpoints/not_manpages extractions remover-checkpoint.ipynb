{
 "cells": [
  {
   "cell_type": "code",
   "execution_count": 1,
   "metadata": {},
   "outputs": [],
   "source": [
    "import bs4 as bs\n",
    "import urllib.request\n",
    "import regex\n",
    "import nltk\n",
    "from nltk.corpus import stopwords\n",
    "import csv\n",
    "import os\n",
    "import sys\n",
    "import traceback\n",
    "import re\n",
    "import ast\n",
    "import string"
   ]
  },
  {
   "cell_type": "code",
   "execution_count": 8,
   "metadata": {},
   "outputs": [],
   "source": [
    "def rem_end(text, suffix):\n",
    "    if text.endswith(suffix):\n",
    "        return text[:-len(suffix)]\n",
    "    return text"
   ]
  },
  {
   "cell_type": "code",
   "execution_count": 2,
   "metadata": {},
   "outputs": [],
   "source": [
    "global_dir = 'D:\\\\KGP\\\\'"
   ]
  },
  {
   "cell_type": "code",
   "execution_count": 35,
   "metadata": {},
   "outputs": [
    {
     "name": "stdout",
     "output_type": "stream",
     "text": [
      "0\n"
     ]
    }
   ],
   "source": [
    "directory = 'D:\\\\KGP\\\\Extractions\\\\Anchors\\\\man'\n",
    "with open(global_dir + 'not_manpages.txt', 'r') as file_read:\n",
    "    csv_reader = csv.DictReader(file_read, delimiter = '\\t')\n",
    "    n = 0\n",
    "    for line in csv_reader:\n",
    "        try:\n",
    "            file_name = directory + line['section'] + '\\\\'+ rem_end(line['file'], '.html') + '.txt'\n",
    "            os.remove(file_name)\n",
    "            n += 1\n",
    "        except:\n",
    "            pass\n",
    "    print(n)"
   ]
  },
  {
   "cell_type": "code",
   "execution_count": null,
   "metadata": {},
   "outputs": [],
   "source": []
  }
 ],
 "metadata": {
  "kernelspec": {
   "display_name": "Python 3",
   "language": "python",
   "name": "python3"
  },
  "language_info": {
   "codemirror_mode": {
    "name": "ipython",
    "version": 3
   },
   "file_extension": ".py",
   "mimetype": "text/x-python",
   "name": "python",
   "nbconvert_exporter": "python",
   "pygments_lexer": "ipython3",
   "version": "3.7.3"
  }
 },
 "nbformat": 4,
 "nbformat_minor": 2
}
