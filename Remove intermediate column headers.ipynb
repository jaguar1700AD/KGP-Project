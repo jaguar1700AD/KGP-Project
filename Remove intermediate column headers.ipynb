{
 "cells": [
  {
   "cell_type": "code",
   "execution_count": 1,
   "metadata": {},
   "outputs": [],
   "source": [
    "import ast\n",
    "import os\n",
    "import csv\n",
    "import sys\n",
    "import bs4 as bs\n",
    "import nltk\n",
    "import networkx as nx\n",
    "\n",
    "maxInt = sys.maxsize\n",
    "\n",
    "while True:\n",
    "    # decrease the maxInt value by factor 10 \n",
    "    # as long as the OverflowError occurs.\n",
    "\n",
    "    try:\n",
    "        csv.field_size_limit(maxInt)\n",
    "        break\n",
    "    except OverflowError:\n",
    "        maxInt = int(maxInt/10)"
   ]
  },
  {
   "cell_type": "code",
   "execution_count": 2,
   "metadata": {},
   "outputs": [],
   "source": [
    "global_dir = 'D:\\\\KGP\\\\'\n",
    "directory = 'Extractions\\\\Graph\\\\'\n",
    "\n",
    "# global_dir = 'C:\\\\Users\\\\shash\\\\'\n",
    "# directory = 'Desktop\\\\'"
   ]
  },
  {
   "cell_type": "code",
   "execution_count": 3,
   "metadata": {},
   "outputs": [
    {
     "name": "stdout",
     "output_type": "stream",
     "text": [
      "Line / 10,000 : 88628 \r"
     ]
    }
   ],
   "source": [
    "n = 0\n",
    "\n",
    "with open(global_dir + directory + '3.txt', 'r') as csv_file:\n",
    "    csv_reader = csv.DictReader(csv_file, delimiter = '\\t') \n",
    "    \n",
    "    with open(global_dir + directory + '31.txt', 'w') as write_file:\n",
    "        fieldnames = ['ent1', 'ent2']\n",
    "        csv_writer = csv.DictWriter(write_file, fieldnames = fieldnames, delimiter = '\\t')\n",
    "        csv_writer.writeheader()\n",
    "        \n",
    "        for line in csv_reader:\n",
    "            if n % 10000 == 0:\n",
    "                sys.stdout.flush()\n",
    "                sys.stdout.write(\"Line / 10,000 : %d \\r\" % (n / 10000))\n",
    "            if line['ent1'] != 'ent1':\n",
    "                csv_writer.writerow(line)\n",
    "                n += 1"
   ]
  },
  {
   "cell_type": "code",
   "execution_count": null,
   "metadata": {},
   "outputs": [],
   "source": []
  }
 ],
 "metadata": {
  "kernelspec": {
   "display_name": "Python 3",
   "language": "python",
   "name": "python3"
  },
  "language_info": {
   "codemirror_mode": {
    "name": "ipython",
    "version": 3
   },
   "file_extension": ".py",
   "mimetype": "text/x-python",
   "name": "python",
   "nbconvert_exporter": "python",
   "pygments_lexer": "ipython3",
   "version": "3.7.3"
  }
 },
 "nbformat": 4,
 "nbformat_minor": 2
}
