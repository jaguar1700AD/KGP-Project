{
 "cells": [
  {
   "cell_type": "code",
   "execution_count": 2,
   "metadata": {},
   "outputs": [],
   "source": [
    "import bs4 as bs\n",
    "import urllib.request\n",
    "import regex\n",
    "import nltk\n",
    "from nltk.corpus import stopwords\n",
    "import csv\n",
    "import os\n",
    "import sys\n",
    "import traceback\n",
    "import re\n",
    "import ast\n",
    "import string"
   ]
  },
  {
   "cell_type": "code",
   "execution_count": 3,
   "metadata": {},
   "outputs": [],
   "source": [
    "global_dir = 'D:\\\\KGP\\\\'"
   ]
  },
  {
   "cell_type": "code",
   "execution_count": 5,
   "metadata": {},
   "outputs": [
    {
     "name": "stdout",
     "output_type": "stream",
     "text": [
      "Section : 9 Progress: 408 / 408 8 6 \r"
     ]
    }
   ],
   "source": [
    "with open(global_dir + 'not_manpages.txt', 'w') as file_write:\n",
    "    fieldnames = ['section','file']\n",
    "    csv_writer = csv.DictWriter(file_write, fieldnames=fieldnames, delimiter = '\\t')\n",
    "    csv_writer.writeheader()\n",
    "\n",
    "    for section in range(1,10):\n",
    "        directory = \"D:\\\\KGP\\\\man\" + str(section) + \"\\\\\"\n",
    "\n",
    "        file_no = 1\n",
    "\n",
    "        all_files = os.listdir(directory)\n",
    "\n",
    "        for file in all_files:\n",
    "\n",
    "            sys.stdout.flush()\n",
    "            sys.stdout.write(\"Section : %d Progress: %d / %d \\r\" % (section, file_no, len(all_files)))\n",
    "\n",
    "            #----------------------------------------------------------------------------------------------------------------------\n",
    "\n",
    "            # Find the title entities\n",
    "\n",
    "            sauce = open(directory + file, 'rb') \n",
    "            soup = bs.BeautifulSoup(sauce, 'lxml')\n",
    "            name_code = re.search(r'<b> *((NAME)|(Name)) *</b>([\\s\\S]*?)<pre>([\\s\\S]*?)</pre>', str(soup))\n",
    "            desc_code =  re.search('((<b> *DESCRIPTION *</b>)|(<b> *Description *</b>)|(<b> *Detailed *</b> <b> *Description *</b>))([\\s\\S]*?)<pre>([\\s\\S]*?)</pre>', str(soup))\n",
    "\n",
    "            if desc_code == None and name_code == None:\n",
    "                new_dict = {'section':section, 'file' : file}\n",
    "                csv_writer.writerow(new_dict)\n",
    "                \n",
    "            file_no += 1"
   ]
  },
  {
   "cell_type": "code",
   "execution_count": null,
   "metadata": {},
   "outputs": [],
   "source": []
  }
 ],
 "metadata": {
  "kernelspec": {
   "display_name": "Python 3",
   "language": "python",
   "name": "python3"
  },
  "language_info": {
   "codemirror_mode": {
    "name": "ipython",
    "version": 3
   },
   "file_extension": ".py",
   "mimetype": "text/x-python",
   "name": "python",
   "nbconvert_exporter": "python",
   "pygments_lexer": "ipython3",
   "version": "3.7.3"
  }
 },
 "nbformat": 4,
 "nbformat_minor": 2
}
